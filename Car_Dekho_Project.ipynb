{
 "cells": [
  {
   "cell_type": "code",
   "execution_count": null,
   "id": "3ab53ead",
   "metadata": {},
   "outputs": [],
   "source": [
    "import pandas as pd\n",
    "import os\n",
    "import numpy as np\n",
    "import plotly.express as px\n",
    "import seaborn as sns\n",
    "import math\n",
    "from sklearn.preprocessing import StandardScaler,OneHotEncoder,PowerTransformer,MinMaxScaler\n",
    "from sklearn.impute import KNNImputer\n",
    "from sklearn.compose import ColumnTransformer\n",
    "from sklearn.pipeline import Pipeline\n",
    "from sklearn.linear_model import RidgeCV,LassoCV,LinearRegression,ElasticNetCV\n",
    "from sklearn.preprocessing import PolynomialFeatures\n",
    "from sklearn.linear_model import LinearRegression, Ridge\n",
    "from sklearn.model_selection import train_test_split, GridSearchCV\n",
    "from sklearn.metrics import mean_squared_error, r2_score\n",
    "\n",
    "from sklearn.model_selection import train_test_split\n",
    "import warnings "
   ]
  },
  {
   "cell_type": "code",
   "execution_count": null,
   "id": "a953489b",
   "metadata": {},
   "outputs": [],
   "source": [
    "df=pd.read_csv('car_price.csv')\n",
    "df.head()"
   ]
  },
  {
   "cell_type": "code",
   "execution_count": null,
   "id": "fa488896",
   "metadata": {},
   "outputs": [],
   "source": [
    "df.isna().sum()"
   ]
  },
  {
   "cell_type": "code",
   "execution_count": null,
   "id": "5fb37b49",
   "metadata": {},
   "outputs": [],
   "source": [
    "df.duplicated().sum()"
   ]
  },
  {
   "cell_type": "code",
   "execution_count": null,
   "id": "7746e61c",
   "metadata": {},
   "outputs": [],
   "source": [
    "df.drop_duplicates(inplace=True)"
   ]
  },
  {
   "cell_type": "code",
   "execution_count": null,
   "id": "015b1114",
   "metadata": {},
   "outputs": [],
   "source": [
    "df.shape"
   ]
  },
  {
   "cell_type": "code",
   "execution_count": null,
   "id": "0b50b13a",
   "metadata": {},
   "outputs": [],
   "source": [
    "df.head(2)"
   ]
  },
  {
   "cell_type": "code",
   "execution_count": null,
   "id": "af3d4e5f",
   "metadata": {},
   "outputs": [],
   "source": [
    "df.isna().sum()"
   ]
  },
  {
   "cell_type": "code",
   "execution_count": null,
   "id": "23caa794",
   "metadata": {},
   "outputs": [],
   "source": [
    "df.shape"
   ]
  },
  {
   "cell_type": "code",
   "execution_count": null,
   "id": "d1677db2",
   "metadata": {},
   "outputs": [],
   "source": [
    "df['max_power'] = df['max_power'].str.extract(r'(\\d+\\.?\\d*)').astype(float)"
   ]
  },
  {
   "cell_type": "code",
   "execution_count": null,
   "id": "caa79581",
   "metadata": {},
   "outputs": [],
   "source": [
    "def number_extracter(df):\n",
    "    cols=['mileage','engine']\n",
    "    for iter in cols :\n",
    "        df[iter]=df[iter].str.split(expand=True)[0].astype(float)\n",
    "    return df\n",
    "df=number_extracter(df)"
   ]
  },
  {
   "cell_type": "code",
   "execution_count": null,
   "id": "02889b98",
   "metadata": {},
   "outputs": [],
   "source": [
    "df.head(3)"
   ]
  },
  {
   "cell_type": "code",
   "execution_count": null,
   "id": "91907b84",
   "metadata": {},
   "outputs": [],
   "source": [
    "df.dtypes"
   ]
  },
  {
   "cell_type": "code",
   "execution_count": null,
   "id": "79a2a8cb",
   "metadata": {},
   "outputs": [],
   "source": [
    "df['name'].nunique()"
   ]
  },
  {
   "cell_type": "code",
   "execution_count": null,
   "id": "fdd0e4e0",
   "metadata": {},
   "outputs": [],
   "source": [
    "df['torque'].str.split(' ',expand=True)"
   ]
  },
  {
   "cell_type": "code",
   "execution_count": null,
   "id": "01341dd5",
   "metadata": {},
   "outputs": [],
   "source": [
    "df['torque'] = df['torque'].str.split(' ',expand=True)[0].str.extract(r'(\\d+\\.?\\d*)').astype(float)\n",
    "df.head(2)"
   ]
  },
  {
   "cell_type": "code",
   "execution_count": null,
   "id": "564cc977",
   "metadata": {},
   "outputs": [],
   "source": [
    "df.head(2)"
   ]
  },
  {
   "cell_type": "code",
   "execution_count": null,
   "id": "14c476e5",
   "metadata": {},
   "outputs": [],
   "source": [
    "df.dtypes"
   ]
  },
  {
   "cell_type": "code",
   "execution_count": null,
   "id": "6638107e",
   "metadata": {},
   "outputs": [],
   "source": [
    "df.isna().sum()"
   ]
  },
  {
   "cell_type": "code",
   "execution_count": null,
   "id": "7946f907",
   "metadata": {},
   "outputs": [],
   "source": [
    "imputer=KNNImputer()\n",
    "cols=df[['mileage','engine','max_power','torque','seats']]\n",
    "imputed =imputer.fit_transform(cols)\n",
    "imputed[0:,0]"
   ]
  },
  {
   "cell_type": "code",
   "execution_count": null,
   "id": "fa0bb713",
   "metadata": {},
   "outputs": [],
   "source": [
    "imputed.shape"
   ]
  },
  {
   "cell_type": "code",
   "execution_count": null,
   "id": "7efd1736",
   "metadata": {},
   "outputs": [],
   "source": [
    "def imputations(imputed,df):\n",
    "    cols=['mileage','engine','max_power','torque','seats']\n",
    "    n=len(cols)\n",
    "    for iter in range(n):\n",
    "        df[cols[iter]]=imputed[0:,iter]\n",
    "    return df\n",
    "df=imputations(imputed,df)\n",
    "df.head(2)"
   ]
  },
  {
   "cell_type": "code",
   "execution_count": null,
   "id": "fc947cdf",
   "metadata": {},
   "outputs": [],
   "source": [
    "df.isna().sum()"
   ]
  },
  {
   "cell_type": "code",
   "execution_count": null,
   "id": "8354e438",
   "metadata": {},
   "outputs": [],
   "source": [
    "df['age']=2025-df['year']\n",
    "df=df.drop(columns={'year'})\n",
    "df.head()\n",
    "df=df[['name','age','km_driven','fuel','seller_type','transmission','owner','mileage','engine','max_power','torque','seats','selling_price']]\n",
    "df.head(2)"
   ]
  },
  {
   "cell_type": "code",
   "execution_count": null,
   "id": "d5b9ad34",
   "metadata": {},
   "outputs": [],
   "source": [
    "df.corr(numeric_only=True)"
   ]
  },
  {
   "cell_type": "code",
   "execution_count": null,
   "id": "a3426dc9",
   "metadata": {},
   "outputs": [],
   "source": [
    "df.head(2)"
   ]
  },
  {
   "cell_type": "code",
   "execution_count": null,
   "id": "ecb77b87",
   "metadata": {},
   "outputs": [],
   "source": [
    "X=df.drop(columns={'selling_price'})"
   ]
  },
  {
   "cell_type": "code",
   "execution_count": null,
   "id": "067977f1",
   "metadata": {},
   "outputs": [],
   "source": [
    "import matplotlib.pyplot as plt\n",
    "# Now Check Distribution of our data \n",
    "def distributions(X):\n",
    "    num_cols=X.select_dtypes(include='number')\n",
    "    num_cols.plot(\n",
    "        kind='density',\n",
    "        subplots=True,\n",
    "        layout=(4,2),\n",
    "        figsize=(20,30),\n",
    "        sharex=False,\n",
    "        sharey=False\n",
    "    )\n",
    "    plt.show()\n",
    "    plt.tight_layout()\n",
    "distributions(X)"
   ]
  },
  {
   "cell_type": "code",
   "execution_count": null,
   "id": "af032320",
   "metadata": {},
   "outputs": [],
   "source": [
    "X=df.drop(columns={'selling_price'})"
   ]
  },
  {
   "cell_type": "code",
   "execution_count": null,
   "id": "ce079161",
   "metadata": {},
   "outputs": [],
   "source": [
    "def outliers(X):\n",
    "    num_cols=X.select_dtypes(include='number')\n",
    "    num_cols.plot(\n",
    "        kind='box',\n",
    "        subplots=True,\n",
    "        layout=(4,2),\n",
    "        figsize=(20,30),\n",
    "        sharex=False,\n",
    "        sharey=False\n",
    "    )\n",
    "    plt.show()\n",
    "    plt.tight_layout()\n",
    "outliers(X)"
   ]
  },
  {
   "cell_type": "code",
   "execution_count": null,
   "id": "0ea0535e",
   "metadata": {},
   "outputs": [],
   "source": [
    "def transformations(df):\n",
    "    X=df.drop(columns={'selling_price'})\n",
    "    num_cols=X.select_dtypes(include='number')\n",
    "    transformer=PowerTransformer(method='yeo-johnson')\n",
    "    num_cols_new=transformer.fit_transform(num_cols)\n",
    "    return num_cols_new\n",
    "transform_arr=transformations(df)\n",
    "transform_arr[0:,0]"
   ]
  },
  {
   "cell_type": "code",
   "execution_count": null,
   "id": "c25f280d",
   "metadata": {},
   "outputs": [],
   "source": [
    "def after_transformation(transform_arr,df):\n",
    "    X=df.drop(columns={'selling_price'})\n",
    "    num_cols=X.select_dtypes(include='number')\n",
    "    names=X.select_dtypes(include='number').columns.values\n",
    "    for iter in range(len(names)):\n",
    "        num_cols[names[iter]] = transform_arr[0:,iter]\n",
    "    return num_cols\n",
    "trans_df=after_transformation(transform_arr,df)\n",
    "trans_df.head()"
   ]
  },
  {
   "cell_type": "code",
   "execution_count": null,
   "id": "bbb2bbf6",
   "metadata": {},
   "outputs": [],
   "source": [
    "outliers(trans_df)"
   ]
  },
  {
   "cell_type": "code",
   "execution_count": null,
   "id": "5fdf216d",
   "metadata": {},
   "outputs": [],
   "source": [
    "distributions(trans_df)"
   ]
  },
  {
   "cell_type": "code",
   "execution_count": null,
   "id": "6a081598",
   "metadata": {},
   "outputs": [],
   "source": [
    "# Lets scale our data using standard sacler\n",
    "def scaling(trans_df):\n",
    "    num_cols=trans_df.select_dtypes(include='number')\n",
    "    scaler=StandardScaler()\n",
    "    scaled_arr=scaler.fit_transform(num_cols)\n",
    "    return scaled_arr\n",
    "scaled_arr=scaling(trans_df)\n",
    "scaled_arr.shape"
   ]
  },
  {
   "cell_type": "code",
   "execution_count": null,
   "id": "5e4789fe",
   "metadata": {},
   "outputs": [],
   "source": [
    "def after_scaling(scaled_arr,trans_df):\n",
    "    num_cols=trans_df.select_dtypes(include='number')\n",
    "    names=trans_df.select_dtypes(include='number').columns.values\n",
    "    for iter in range(len(names)):\n",
    "        num_cols[names[iter]] = scaled_arr[0:,iter]\n",
    "    return num_cols\n",
    "scaled_df=after_scaling(scaled_arr,trans_df)\n",
    "scaled_df.head()"
   ]
  },
  {
   "cell_type": "code",
   "execution_count": null,
   "id": "ac871ea6",
   "metadata": {},
   "outputs": [],
   "source": [
    "distributions(scaled_df)"
   ]
  },
  {
   "cell_type": "code",
   "execution_count": null,
   "id": "cd46d67e",
   "metadata": {},
   "outputs": [],
   "source": [
    "outliers(scaled_df)"
   ]
  },
  {
   "cell_type": "code",
   "execution_count": null,
   "id": "12c432b6",
   "metadata": {},
   "outputs": [],
   "source": [
    "df.head(2)"
   ]
  },
  {
   "cell_type": "code",
   "execution_count": null,
   "id": "303af569",
   "metadata": {},
   "outputs": [],
   "source": [
    "X=df.drop(columns={'name','selling_price'})\n",
    "X.head()"
   ]
  },
  {
   "cell_type": "code",
   "execution_count": null,
   "id": "bc29c20a",
   "metadata": {},
   "outputs": [],
   "source": [
    "y=df['selling_price']\n",
    "y.head()"
   ]
  },
  {
   "cell_type": "code",
   "execution_count": null,
   "id": "a27af39f",
   "metadata": {},
   "outputs": [],
   "source": [
    "X_train,X_test,y_train,y_test=train_test_split(X,y,test_size=0.33,random_state=42)\n",
    "X_train.head()"
   ]
  },
  {
   "cell_type": "code",
   "execution_count": null,
   "id": "ec565b47",
   "metadata": {},
   "outputs": [],
   "source": [
    "# Creating a Categorical handling Pipeline\n",
    "cat_cols=X_train.select_dtypes(include='object').columns.values.tolist()\n",
    "encoding=OneHotEncoder(handle_unknown='ignore')\n",
    "encoding"
   ]
  },
  {
   "cell_type": "code",
   "execution_count": null,
   "id": "e0815627",
   "metadata": {},
   "outputs": [],
   "source": [
    "num_cols = X_train.select_dtypes(include='number').columns.values.tolist()\n",
    "num_cols"
   ]
  },
  {
   "cell_type": "code",
   "execution_count": null,
   "id": "bbdf62e4",
   "metadata": {},
   "outputs": [],
   "source": [
    "# Creating a Numerical Values Handling Pipeline \n",
    "\n",
    "num_handling=Pipeline(\n",
    "    [\n",
    "        ('transformer',PowerTransformer(method='yeo-johnson')),\n",
    "        ('scaling',StandardScaler())\n",
    "    ]\n",
    ")\n",
    "num_handling"
   ]
  },
  {
   "cell_type": "code",
   "execution_count": null,
   "id": "02901a2d",
   "metadata": {},
   "outputs": [],
   "source": [
    "transformation=ColumnTransformer(\n",
    "    [\n",
    "        ('cats',encoding,cat_cols),\n",
    "        ('nums',num_handling,num_cols)\n",
    "    ]\n",
    ")\n",
    "transformation"
   ]
  },
  {
   "cell_type": "code",
   "execution_count": null,
   "id": "5a16f815",
   "metadata": {},
   "outputs": [],
   "source": [
    "full_pipeline = Pipeline([\n",
    "    ('pre', transformation),                    # your ColumnTransformer\n",
    "    ('poly', PolynomialFeatures(include_bias=False, interaction_only=False)),\n",
    "    ('reg', LinearRegression())                 # placeholder estimator; GridSearch will try alternatives\n",
    "])"
   ]
  },
  {
   "cell_type": "code",
   "execution_count": null,
   "id": "a091031b",
   "metadata": {},
   "outputs": [],
   "source": [
    "from sklearn.linear_model import ElasticNet\n",
    "param_grid = [\n",
    "    # Try simple polynomial + LinearRegression\n",
    "    {\n",
    "        'poly__degree': [1, 2],                # degree 1 = linear, 2 = quadratic\n",
    "        'reg': [LinearRegression()],\n",
    "        'reg__fit_intercept': [True]           # valid for LinearRegression\n",
    "    },\n",
    "    # Try polynomial + Ridge (regularized) for degrees that tend to blow up features\n",
    "    {\n",
    "        'poly__degree': [1, 2, 3],\n",
    "        'reg': [Ridge()],\n",
    "        'reg__alpha': [0.01, 0.1, 1.0, 10.0], # regularization strengths\n",
    "        'reg__fit_intercept': [True]\n",
    "    },\n",
    "    {\n",
    "        'poly__degree': [1, 2, 3],\n",
    "        'reg': [ElasticNet()],\n",
    "        'reg__alpha': [0.01, 0.1, 1.0, 10.0], # regularization strengths\n",
    "        'reg__fit_intercept': [True]\n",
    "    }\n",
    "]"
   ]
  },
  {
   "cell_type": "code",
   "execution_count": null,
   "id": "038a6d3c",
   "metadata": {},
   "outputs": [],
   "source": [
    "# 5) GridSearchCV setup\n",
    "grid = GridSearchCV(\n",
    "    estimator=full_pipeline,\n",
    "    param_grid=param_grid,\n",
    "    cv=5,\n",
    "    scoring='neg_mean_squared_error',  # tune for MSE\n",
    "    n_jobs=-1,\n",
    "    verbose=2\n",
    ")"
   ]
  },
  {
   "cell_type": "code",
   "execution_count": null,
   "id": "7e8275c3",
   "metadata": {},
   "outputs": [],
   "source": [
    "# 6) Fit grid search\n",
    "grid.fit(X_train, y_train)\n",
    "\n",
    "# 7) Best found parameters\n",
    "print(\"Best params:\\n\", grid.best_params_)\n",
    "print(\"Best CV (neg MSE):\", grid.best_score_)\n",
    "\n",
    "# 8) Evaluate on test set\n",
    "best_model = grid.best_estimator_\n",
    "y_pred = best_model.predict(X_test)\n",
    "\n",
    "y_pred_train=best_model.predict(X_train)\n",
    "\n",
    "mse_test = mean_squared_error(y_test, y_pred)\n",
    "rmse_test = np.sqrt(mse_test)\n",
    "r2_test = r2_score(y_test, y_pred)\n",
    "\n",
    "r2_train=r2_score(y_train, y_pred_train)\n",
    "\n",
    "print(f\"Train R^2 : {r2_train:.4f}\")\n",
    "\n",
    "print(f\"Test R^2 : {r2_test:.4f}\")\n",
    "\n",
    "# 9) If you want to inspect coefficients (for LinearRegression or Ridge)\n",
    "# Note: After preprocessing + poly, feature names are not trivial. You can still get coef_\n",
    "reg_step = best_model.named_steps['reg']\n",
    "\n",
    "print(\"Number of learned coefficients:\", getattr(reg_step, \"coef_\", None).shape)"
   ]
  },
  {
   "cell_type": "code",
   "execution_count": null,
   "id": "aef31fb6",
   "metadata": {},
   "outputs": [],
   "source": []
  }
 ],
 "metadata": {
  "kernelspec": {
   "display_name": "Python 3",
   "language": "python",
   "name": "python3"
  },
  "language_info": {
   "codemirror_mode": {
    "name": "ipython",
    "version": 3
   },
   "file_extension": ".py",
   "mimetype": "text/x-python",
   "name": "python",
   "nbconvert_exporter": "python",
   "pygments_lexer": "ipython3",
   "version": "3.12.8"
  }
 },
 "nbformat": 4,
 "nbformat_minor": 5
}
